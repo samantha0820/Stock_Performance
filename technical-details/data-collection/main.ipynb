{
 "cells": [
  {
   "cell_type": "markdown",
   "metadata": {},
   "source": [
    "---\n",
    "title: \"Data Collection\"\n",
    "format:\n",
    "    html: \n",
    "        code-fold: false\n",
    "---"
   ]
  },
  {
   "cell_type": "markdown",
   "metadata": {},
   "source": [
    "{{< include instructions.qmd >}} "
   ]
  },
  {
   "cell_type": "markdown",
   "metadata": {},
   "source": [
    "\n",
    "{{< include overview.qmd >}} "
   ]
  },
  {
   "cell_type": "markdown",
   "metadata": {},
   "source": [
    "{{< include methods.qmd >}} "
   ]
  },
  {
   "cell_type": "markdown",
   "metadata": {},
   "source": [
    "# Code \n",
    "\n",
    "Provide the source code used for this section of the project here.\n",
    "\n",
    "If you're using a package for code organization, you can import it at this point. However, make sure that the **actual workflow steps**—including data processing, analysis, and other key tasks—are conducted and clearly demonstrated on this page. The goal is to show the technical flow of your project, highlighting how the code is executed to achieve your results.\n",
    "\n",
    "Ensure that the code is well-commented to enhance readability and understanding for others who may review or use it. If relevant, link to additional documentation or external references that explain any complex components. This section should give readers a clear view of how the project is implemented from a technical perspective.\n",
    "\n",
    "This page is a technical narrative, NOT just a notebook with a collection of code cells, include in-line Prose, to describe what is going on."
   ]
  },
  {
   "cell_type": "markdown",
   "metadata": {},
   "source": [
    "## Import data\n",
    "\n",
    "In the following code, we utilize the FRED API (Federal Reserve Economic Data) for macroeconomic data and BEA API (Bureau of Economic Analysis) for assets data. This combination allows us to gather comprehensive economic indicators and market performance data for our analysis."
   ]
  },
  {
   "cell_type": "markdown",
   "metadata": {},
   "source": [
    "## Set the path to store data"
   ]
  },
  {
   "cell_type": "code",
   "execution_count": 1,
   "metadata": {},
   "outputs": [],
   "source": [
    "import os  # Import os module for handling file paths\n",
    "\n",
    "# Define the target folder for saving CSV files\n",
    "output_folder = \"../../data/raw-data\"\n",
    "\n",
    "# Create the folder if it doesn't exist\n",
    "if not os.path.exists(output_folder):\n",
    "    os.makedirs(output_folder)\n",
    "\n"
   ]
  },
  {
   "cell_type": "markdown",
   "metadata": {},
   "source": [
    "## Importing and Processing Macroeconomic Data from FRED API"
   ]
  },
  {
   "cell_type": "code",
   "execution_count": 21,
   "metadata": {},
   "outputs": [
    {
     "name": "stdout",
     "output_type": "stream",
     "text": [
      "Data for macro_series saved to '/Users/qqmian/Desktop/GU_5000/Stock_Market_Performance/data/raw-data/macro_series_raw.csv'.\n",
      "          date        GDP    CPI  Unemployment  FedFundsRate      M2  Umscent  \\\n",
      "640 2000-01-01  10002.179  169.3           4.0          5.45  4667.6    112.0   \n",
      "641 2000-02-01  10250.952  170.0           4.1          5.73  4680.9    111.3   \n",
      "642 2000-03-01  10250.952  171.0           4.0          5.85  4711.7    107.1   \n",
      "643 2000-04-01  10247.720  170.9           3.8          6.02  4767.8    109.2   \n",
      "644 2000-05-01  10250.952  171.2           4.0          6.27  4755.7    110.7   \n",
      "645 2000-06-01  10250.952  172.2           4.0          6.53  4773.6    106.4   \n",
      "646 2000-07-01  10318.165  172.7           4.0          6.54  4791.3    108.3   \n",
      "647 2000-08-01  10250.952  172.7           4.1          6.50  4819.5    107.3   \n",
      "648 2000-09-01  10250.952  173.6           3.9          6.52  4855.3    106.8   \n",
      "649 2000-10-01  10435.744  173.9           3.9          6.51  4871.4    105.8   \n",
      "650 2000-11-01  10250.952  174.2           3.9          6.51  4882.8    107.6   \n",
      "651 2000-12-01  10250.952  174.6           3.9          6.40  4927.7     98.4   \n",
      "652 2001-01-01  10470.231  175.6           4.2          5.98  4978.4     94.7   \n",
      "653 2001-02-01  10581.929  176.0           4.2          5.49  5017.1     90.6   \n",
      "654 2001-03-01  10581.929  176.1           4.3          5.31  5074.9     91.5   \n",
      "655 2001-04-01  10599.000  176.4           4.4          4.80  5139.2     88.4   \n",
      "656 2001-05-01  10581.929  177.3           4.3          4.21  5137.3     92.0   \n",
      "657 2001-06-01  10581.929  177.7           4.5          3.97  5180.3     92.6   \n",
      "658 2001-07-01  10598.020  177.4           4.6          3.77  5210.2     92.4   \n",
      "659 2001-08-01  10581.929  177.4           4.9          3.65  5243.9     91.5   \n",
      "\n",
      "     real_estate     Exports   Imports  year   GDP_YoY   GDP_MoM   CPI_YoY  \\\n",
      "640      100.000  1052.90400  1409.487  2000  0.062741  0.038522  0.027930   \n",
      "641      100.571  1096.11075  1477.184  2000  0.064351  0.024872  0.032180   \n",
      "642      101.466  1096.11075  1477.184  2000  0.064351  0.000000  0.037621   \n",
      "643      102.541  1093.36000  1455.860  2000  0.075739 -0.000315  0.030139   \n",
      "644      103.702  1096.11075  1477.184  2000  0.064351  0.000315  0.031325   \n",
      "645      104.856  1096.11075  1477.184  2000  0.064351  0.000000  0.037349   \n",
      "646      105.722  1125.00200  1518.869  2000  0.065197  0.006557  0.035993   \n",
      "647      106.522  1096.11075  1477.184  2000  0.064351 -0.006514  0.033513   \n",
      "648      107.136  1096.11075  1477.184  2000  0.064351  0.000000  0.034565   \n",
      "649      107.729  1113.17700  1524.520  2000  0.054098  0.018027  0.034503   \n",
      "650      108.292  1096.11075  1477.184  2000  0.064351 -0.017708  0.034442   \n",
      "651      108.792  1096.11075  1477.184  2000  0.064351  0.000000  0.034360   \n",
      "652      109.215  1096.81200  1499.464  2001  0.046795  0.021391  0.037212   \n",
      "653      109.643  1026.81175  1403.559  2001  0.032287  0.010668  0.035294   \n",
      "654      110.395  1026.81175  1403.559  2001  0.032287  0.000000  0.029825   \n",
      "655      111.248  1058.01300  1422.028  2001  0.034279  0.001613  0.032183   \n",
      "656      112.203  1026.81175  1403.559  2001  0.032287 -0.001611  0.035631   \n",
      "657      113.273  1026.81175  1403.559  2001  0.032287  0.000000  0.031940   \n",
      "658      114.227   998.90200  1369.536  2001  0.027123  0.001521  0.027215   \n",
      "659      114.989  1026.81175  1403.559  2001  0.032287 -0.001518  0.027215   \n",
      "\n",
      "        GDP_Lag1  CPI_Lag1  \n",
      "640   9631.17175     168.8  \n",
      "641  10002.17900     169.3  \n",
      "642  10250.95200     170.0  \n",
      "643  10250.95200     171.0  \n",
      "644  10247.72000     170.9  \n",
      "645  10250.95200     171.2  \n",
      "646  10250.95200     172.2  \n",
      "647  10318.16500     172.7  \n",
      "648  10250.95200     172.7  \n",
      "649  10250.95200     173.6  \n",
      "650  10435.74400     173.9  \n",
      "651  10250.95200     174.2  \n",
      "652  10250.95200     174.6  \n",
      "653  10470.23100     175.6  \n",
      "654  10581.92900     176.0  \n",
      "655  10581.92900     176.1  \n",
      "656  10599.00000     176.4  \n",
      "657  10581.92900     177.3  \n",
      "658  10581.92900     177.7  \n",
      "659  10598.02000     177.4  \n",
      "<class 'pandas.core.frame.DataFrame'>\n",
      "Index: 299 entries, 640 to 938\n",
      "Data columns (total 16 columns):\n",
      " #   Column        Non-Null Count  Dtype         \n",
      "---  ------        --------------  -----         \n",
      " 0   date          299 non-null    datetime64[ns]\n",
      " 1   GDP           299 non-null    float64       \n",
      " 2   CPI           299 non-null    float64       \n",
      " 3   Unemployment  299 non-null    float64       \n",
      " 4   FedFundsRate  299 non-null    float64       \n",
      " 5   M2            298 non-null    float64       \n",
      " 6   Umscent       299 non-null    float64       \n",
      " 7   real_estate   297 non-null    float64       \n",
      " 8   Exports       299 non-null    float64       \n",
      " 9   Imports       299 non-null    float64       \n",
      " 10  year          299 non-null    int32         \n",
      " 11  GDP_YoY       299 non-null    float64       \n",
      " 12  GDP_MoM       299 non-null    float64       \n",
      " 13  CPI_YoY       299 non-null    float64       \n",
      " 14  GDP_Lag1      299 non-null    float64       \n",
      " 15  CPI_Lag1      299 non-null    float64       \n",
      "dtypes: datetime64[ns](1), float64(14), int32(1)\n",
      "memory usage: 38.5 KB\n",
      "None\n"
     ]
    }
   ],
   "source": [
    "import requests\n",
    "import pandas as pd\n",
    "\n",
    "# API Key\n",
    "API_KEY = \"01e2e0f764ac9522003f01e4458beabe\"\n",
    "\n",
    "# FRED API URL\n",
    "base_url = \"https://api.stlouisfed.org/fred/series/observations\"\n",
    "\n",
    "# Define the series IDs to fetch\n",
    "series_ids = {\n",
    "    \"GDP\": \"GDP\",\n",
    "    \"CPI\": \"CPIAUCSL\",\n",
    "    \"Unemployment\": \"UNRATE\",\n",
    "    \"FedFundsRate\": \"FEDFUNDS\",\n",
    "    \"M2\": \"M2SL\",\n",
    "    \"Umscent\": \"UMCSENT\",\n",
    "    \"real_estate\": \"CSUSHPINSA\",\n",
    "    \"Exports\": \"EXPGS\",\n",
    "    \"Imports\": \"IMPGS\"\n",
    "}\n",
    "\n",
    "# Create an empty list to store dataframes\n",
    "data_frames = []\n",
    "\n",
    "for name, series_id in series_ids.items():\n",
    "    # Construct the API request parameters\n",
    "    params = {\n",
    "        \"series_id\": series_id,\n",
    "        \"api_key\": API_KEY,\n",
    "        \"file_type\": \"json\"\n",
    "    }\n",
    "    # Send the API request\n",
    "    response = requests.get(base_url, params=params)\n",
    "    json_data = response.json()\n",
    "\n",
    "    # Extract the observations data\n",
    "    observations = json_data[\"observations\"]\n",
    "    df = pd.DataFrame(observations)\n",
    "    \n",
    "    # Process the dataframe\n",
    "    df[\"value\"] = pd.to_numeric(df[\"value\"], errors=\"coerce\")  # Convert invalid values to NaN\n",
    "    df[\"date\"] = pd.to_datetime(df[\"date\"])  # Ensure the date column is in datetime format\n",
    "    df = df.rename(columns={\"value\": name})  # Rename the value column to the series name\n",
    "    df = df[[\"date\", name]]  # Keep only the date and series value columns\n",
    "    data_frames.append(df)\n",
    "\n",
    "# Merge all the dataframes into a single dataframe\n",
    "merged_data = data_frames[0]\n",
    "for df in data_frames[1:]:\n",
    "    merged_data = pd.merge(merged_data, df, on=\"date\", how=\"outer\")\n",
    "\n",
    "# Save the raw collected data for inspection or further processing\n",
    "raw_data_file = os.path.join(output_folder, \"macro_series_raw_collection.csv\")\n",
    "merged_data.to_csv(raw_data_file, index=False)\n",
    "print(f\"Raw collected data saved to '{raw_data_file}'.\")"
   ]
  },
  {
   "cell_type": "markdown",
   "metadata": {},
   "source": [
    "## Fetching 10-Year Treasury Yield Data from FRED API"
   ]
  },
  {
   "cell_type": "code",
   "execution_count": 22,
   "metadata": {},
   "outputs": [
    {
     "name": "stdout",
     "output_type": "stream",
     "text": [
      "Data request successful!\n",
      "        date  10_year_yield\n",
      "0 2000-01-03        2.01550\n",
      "1 2000-01-04       -1.36778\n",
      "2 2000-01-05        2.00308\n",
      "3 2000-01-06       -0.75529\n",
      "4 2000-01-07       -0.76104\n",
      "Data for 10_year_treasury saved to '/Users/qqmian/Desktop/GU_5000/Stock_Market_Performance/data/raw-data/10_year_treasury.csv'.\n"
     ]
    }
   ],
   "source": [
    "# Define request parameters\n",
    "params = {\n",
    "    \"series_id\": \"DGS10\",   # 10-Year Treasury Yield\n",
    "    \"api_key\": API_KEY,\n",
    "    \"file_type\": \"json\",\n",
    "    \"observation_start\": \"2000-01-01\",\n",
    "    \"observation_end\": \"2024-12-31\",\n",
    "    \"frequency\": \"d\",  # Monthly frequency\n",
    "    \"aggregation_method\": \"eop\",  # Use period end value\n",
    "    \"units\": \"pch\",  # Percentage change\n",
    "}\n",
    "\n",
    "# Send the request\n",
    "response = requests.get(base_url, params=params)\n",
    "\n",
    "# Check if the request is successful\n",
    "if response.status_code == 200:\n",
    "    print(\"Data request successful!\")\n",
    "    data = response.json()\n",
    "    \n",
    "    # Extract data and convert to DataFrame\n",
    "    records = []\n",
    "    for item in data['observations']:\n",
    "        records.append({\n",
    "            \"date\": item['date'],\n",
    "            \"10_year_yield\": float(item['value']) if item['value'] != \".\" else None\n",
    "        })\n",
    "    df = pd.DataFrame(records)\n",
    "    \n",
    "    # Process data\n",
    "    df['date'] = pd.to_datetime(df['date'])\n",
    "    print(df.head())\n",
    "else:\n",
    "    print(\"Data request failed!\", response.status_code, response.text)\n",
    "\n",
    "# Save the result to a CSV file\n",
    "file_name = os.path.join(output_folder, f\"10_year_treasury.csv\")\n",
    "df.to_csv(file_name, index=False)\n",
    "print(f\"Data for 10_year_treasury saved to '{file_name}'.\")"
   ]
  },
  {
   "cell_type": "markdown",
   "metadata": {},
   "source": [
    "## Fetching National Income and Product Accounts (NIPA) Data from BEA API\n",
    "### These data tables include:\n",
    "T20100: Gross Domestic Product and Personal Consumption\n",
    "\n",
    "T10105: National Account Savings and Investment Data"
   ]
  },
  {
   "cell_type": "code",
   "execution_count": 23,
   "metadata": {},
   "outputs": [
    {
     "name": "stdout",
     "output_type": "stream",
     "text": [
      "Data for t20100_raw_data saved to '/Users/qqmian/Desktop/GU_5000/Stock_Market_Performance/data/raw-data/t20100_raw_data.csv'.\n",
      "Data for t10105_raw_data saved to '/Users/qqmian/Desktop/GU_5000/Stock_Market_Performance/data/raw-data/t10105_raw_data.csv'.\n"
     ]
    }
   ],
   "source": [
    "import requests\n",
    "import pandas as pd\n",
    "import matplotlib.pyplot as plt\n",
    "import os\n",
    "\n",
    "# BEA API basic configuration\n",
    "BEA_API_KEY = \"0539E64B-28C5-43F2-8885-D19E3D784EEE\"  # Replace with your API key\n",
    "base_url = \"https://apps.bea.gov/api/data/\"\n",
    "\n",
    "def fetch_bea_data(table_name):\n",
    "    params = {\n",
    "        \"UserID\": BEA_API_KEY,\n",
    "        \"method\": \"GetData\",\n",
    "        \"datasetname\": \"NIPA\",\n",
    "        \"Frequency\": \"A\",  # Annual data\n",
    "        \"TableName\": table_name, \n",
    "        \"Year\": \"X\",  # Retrieve all years\n",
    "        \"ResultFormat\": \"JSON\"\n",
    "    }\n",
    "    response = requests.get(base_url, params=params)\n",
    "    data = response.json()\n",
    "    if \"Results\" in data[\"BEAAPI\"] and \"Data\" in data[\"BEAAPI\"][\"Results\"]:\n",
    "        return pd.DataFrame(data[\"BEAAPI\"][\"Results\"][\"Data\"])\n",
    "    else:\n",
    "        print(f\"Failed to fetch data for table {table_name}, error message:\", data)\n",
    "        return pd.DataFrame()  # Return an empty DataFrame if no data is retrieved\n",
    "\n",
    "\n",
    "\n",
    "# Fetch T20100 data\n",
    "t20100_data = fetch_bea_data(\"T20100\")\n",
    "t10105_data = fetch_bea_data(\"T10105\")\n",
    "\n",
    "file_name = os.path.join(output_folder, f\"t20100_raw_data.csv\")\n",
    "t20100_data.to_csv(file_name, index=False)\n",
    "print(f\"Data for t20100_raw_data saved to '{file_name}'.\")\n",
    "\n",
    "file_name = os.path.join(output_folder, f\"t10105_raw_data.csv\")\n",
    "t10105_data.to_csv(file_name, index=False)\n",
    "print(f\"Data for t10105_raw_data saved to '{file_name}'.\")"
   ]
  },
  {
   "cell_type": "markdown",
   "metadata": {},
   "source": [
    "## Downloading Market Data from Yahoo Finance\n",
    "### This code fetches daily market data for major indices and commodities:\n",
    "\n",
    "S&P 500 (^GSPC)\n",
    "\n",
    "Nasdaq (^IXIC)\n",
    "\n",
    "Dow Jones (^DJI)\n",
    "\n",
    "Gold Futures (GC=F)\n",
    "\n",
    "Crude Oil Futures (CL=F)"
   ]
  },
  {
   "cell_type": "code",
   "execution_count": null,
   "metadata": {},
   "outputs": [
    {
     "name": "stderr",
     "output_type": "stream",
     "text": [
      "[*********************100%***********************]  1 of 1 completed\n",
      "[*********************100%***********************]  1 of 1 completed"
     ]
    },
    {
     "name": "stdout",
     "output_type": "stream",
     "text": [
      "Downloading data for ^GSPC...\n",
      "Raw data for S&P_500 saved to '/Users/qqmian/Desktop/GU_5000/Stock_Market_Performance/data/raw-data/S&P_500_raw_a.csv'.\n",
      "Downloading data for ^IXIC...\n"
     ]
    },
    {
     "name": "stderr",
     "output_type": "stream",
     "text": [
      "\n",
      "[*********************100%***********************]  1 of 1 completed\n",
      "[*********************100%***********************]  1 of 1 completed\n"
     ]
    },
    {
     "name": "stdout",
     "output_type": "stream",
     "text": [
      "Raw data for Nasdaq saved to '/Users/qqmian/Desktop/GU_5000/Stock_Market_Performance/data/raw-data/Nasdaq_raw_a.csv'.\n",
      "Downloading data for ^DJI...\n",
      "Raw data for Dow_Jones saved to '/Users/qqmian/Desktop/GU_5000/Stock_Market_Performance/data/raw-data/Dow_Jones_raw_a.csv'.\n",
      "Downloading data for GC=F...\n",
      "Raw data for Gold saved to '/Users/qqmian/Desktop/GU_5000/Stock_Market_Performance/data/raw-data/Gold_raw_a.csv'.\n",
      "Downloading data for CL=F...\n"
     ]
    },
    {
     "name": "stderr",
     "output_type": "stream",
     "text": [
      "[*********************100%***********************]  1 of 1 completed\n"
     ]
    },
    {
     "name": "stdout",
     "output_type": "stream",
     "text": [
      "Raw data for Crude_Oil saved to '/Users/qqmian/Desktop/GU_5000/Stock_Market_Performance/data/raw-data/Crude_Oil_raw_a.csv'.\n"
     ]
    }
   ],
   "source": [
    "import yfinance as yf\n",
    "import pandas as pd\n",
    "import os\n",
    "\n",
    "def fetch_data(ticker, start_date, end_date):\n",
    "    \"\"\"\n",
    "    Fetch asset data from Yahoo Finance.\n",
    "    \n",
    "    Args:\n",
    "        ticker (str): Asset ticker symbol (e.g., \"^GSPC\").\n",
    "        start_date (str): Start date (format \"YYYY-MM-DD\").\n",
    "        end_date (str): End date (format \"YYYY-MM-DD\").\n",
    "\n",
    "    Returns:\n",
    "        pd.DataFrame: DataFrame containing basic asset data (Date, Open, High, Low, Close, Volume).\n",
    "    \"\"\"\n",
    "    print(f\"Downloading data for {ticker}...\")\n",
    "    try:\n",
    "        # Download data from Yahoo Finance\n",
    "        data = yf.download(ticker, start=start_date, end=end_date, interval=\"1d\")\n",
    "        if data.empty:\n",
    "            print(f\"No data found for {ticker}.\")\n",
    "            return None\n",
    "\n",
    "        # Retain relevant columns and reset the index\n",
    "        data.reset_index(inplace=True)\n",
    "        data = data[[\"Date\", \"Open\", \"High\", \"Low\", \"Close\", \"Volume\"]]\n",
    "        return data\n",
    "    except Exception as e:\n",
    "        print(f\"Error fetching data for {ticker}: {e}\")\n",
    "        return None\n",
    "\n",
    "\n",
    "if __name__ == \"__main__\":\n",
    "    # Define the list of assets\n",
    "    assets = {\n",
    "        \"^GSPC\": \"S&P_500\",\n",
    "        \"^IXIC\": \"Nasdaq\",\n",
    "        \"^DJI\": \"Dow_Jones\",\n",
    "        \"GC=F\": \"Gold\",\n",
    "        \"CL=F\": \"Crude_Oil\",\n",
    "    }\n",
    "\n",
    "    # Define the date range\n",
    "    start_date = \"2000-11-01\"\n",
    "    end_date = \"2024-11-30\"\n",
    "\n",
    "\n",
    "    # Iterate through the assets and download data\n",
    "    for ticker, name in assets.items():\n",
    "        data = fetch_data(ticker, start_date, end_date)\n",
    "        # Ensure column names are single-level (remove multi-level index)\n",
    "        if isinstance(data.columns, pd.MultiIndex):\n",
    "            data.columns = data.columns.droplevel(1)\n",
    "        if data is not None:\n",
    "            # Save the raw data to a CSV file\n",
    "            \n",
    "            file_path = os.path.join(output_folder, f\"{name}_raw_a.csv\")\n",
    "            data.to_csv(file_path, index=False)\n",
    "            print(f\"Raw data for {name} saved to '{file_path}'.\")"
   ]
  },
  {
   "cell_type": "markdown",
   "metadata": {},
   "source": [
    "{{< include closing.qmd >}} "
   ]
  }
 ],
 "metadata": {
  "kernelspec": {
   "display_name": "dsan5400",
   "language": "python",
   "name": "python3"
  },
  "language_info": {
   "codemirror_mode": {
    "name": "ipython",
    "version": 3
   },
   "file_extension": ".py",
   "mimetype": "text/x-python",
   "name": "python",
   "nbconvert_exporter": "python",
   "pygments_lexer": "ipython3",
   "version": "3.12.7"
  }
 },
 "nbformat": 4,
 "nbformat_minor": 2
}
